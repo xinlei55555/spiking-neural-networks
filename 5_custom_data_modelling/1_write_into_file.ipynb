{
 "cells": [
  {
   "cell_type": "code",
   "execution_count": 3,
   "metadata": {},
   "outputs": [
    {
     "ename": "TypeError",
     "evalue": "int() argument must be a string, a bytes-like object or a real number, not 'NoneType'",
     "output_type": "error",
     "traceback": [
      "\u001b[0;31m---------------------------------------------------------------------------\u001b[0m",
      "\u001b[0;31mTypeError\u001b[0m                                 Traceback (most recent call last)",
      "\u001b[1;32m/mnt/DATA/Personnel/Other learning/Programming/Personal_projects/4_More_team_projects/6_SNN/5_custom_data_modelling/1_write_into_file.ipynb Cell 1\u001b[0m line \u001b[0;36m1\n\u001b[1;32m     <a href='vscode-notebook-cell:/mnt/DATA/Personnel/Other%20learning/Programming/Personal_projects/4_More_team_projects/6_SNN/5_custom_data_modelling/1_write_into_file.ipynb#W0sZmlsZQ%3D%3D?line=12'>13</a>\u001b[0m buf \u001b[39m=\u001b[39m np\u001b[39m.\u001b[39mempty((frameCount, frameHeight, frameWidth, \u001b[39m3\u001b[39m), np\u001b[39m.\u001b[39mdtype(\u001b[39m'\u001b[39m\u001b[39muint8\u001b[39m\u001b[39m'\u001b[39m))\n\u001b[1;32m     <a href='vscode-notebook-cell:/mnt/DATA/Personnel/Other%20learning/Programming/Personal_projects/4_More_team_projects/6_SNN/5_custom_data_modelling/1_write_into_file.ipynb#W0sZmlsZQ%3D%3D?line=14'>15</a>\u001b[0m \u001b[39mwhile\u001b[39;00m cap\u001b[39m.\u001b[39misOpened():\n\u001b[0;32m---> <a href='vscode-notebook-cell:/mnt/DATA/Personnel/Other%20learning/Programming/Personal_projects/4_More_team_projects/6_SNN/5_custom_data_modelling/1_write_into_file.ipynb#W0sZmlsZQ%3D%3D?line=15'>16</a>\u001b[0m     ret, buf[count] \u001b[39m=\u001b[39m cap\u001b[39m.\u001b[39mread()\n\u001b[1;32m     <a href='vscode-notebook-cell:/mnt/DATA/Personnel/Other%20learning/Programming/Personal_projects/4_More_team_projects/6_SNN/5_custom_data_modelling/1_write_into_file.ipynb#W0sZmlsZQ%3D%3D?line=17'>18</a>\u001b[0m cap\u001b[39m.\u001b[39mrelease()\n",
      "\u001b[0;31mTypeError\u001b[0m: int() argument must be a string, a bytes-like object or a real number, not 'NoneType'"
     ]
    }
   ],
   "source": [
    "#load the video\n",
    "import cv2\n",
    "import numpy as np\n",
    "\n",
    "cap = cv2.VideoCapture('/mnt/DATA/Personnel/Other learning/Programming/Personal_projects/4_More_team_projects/6_SNN/3_data/testing_videos/9xg6B6d2Yts.mp4')\n",
    "\n",
    "frameCount = int(cap.get(cv2.CAP_PROP_FRAME_COUNT))\n",
    "frameWidth = int(cap.get(cv2.CAP_PROP_FRAME_WIDTH))\n",
    "frameHeight = int(cap.get(cv2.CAP_PROP_FRAME_HEIGHT))\n",
    "\n",
    "count = 0\n",
    "\n",
    "buf = np.empty((frameCount, frameHeight, frameWidth, 3), np.dtype('uint8'))\n",
    "\n",
    "while cap.isOpened():\n",
    "    ret, buf[count] = cap.read()\n",
    "\n",
    "cap.release()\n",
    "\n"
   ]
  }
 ],
 "metadata": {
  "kernelspec": {
   "display_name": "snn_env",
   "language": "python",
   "name": "python3"
  },
  "language_info": {
   "codemirror_mode": {
    "name": "ipython",
    "version": 3
   },
   "file_extension": ".py",
   "mimetype": "text/x-python",
   "name": "python",
   "nbconvert_exporter": "python",
   "pygments_lexer": "ipython3",
   "version": "3.10.13"
  }
 },
 "nbformat": 4,
 "nbformat_minor": 2
}
